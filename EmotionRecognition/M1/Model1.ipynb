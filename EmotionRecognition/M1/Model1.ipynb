{
 "cells": [
  {
   "cell_type": "code",
   "execution_count": null,
   "metadata": {},
   "outputs": [],
   "source": [
    "import json\n",
    "import torch\n",
    "import torch.nn as nn\n",
    "import torch.optim as optim\n",
    "from torch.utils.data import Dataset, DataLoader\n",
    "from sklearn.preprocessing import LabelEncoder\n",
    "from transformers import BertTokenizer, BertModel\n",
    "import torch.nn.functional as F\n",
    "class EmotionDataset(Dataset):\n",
    "    def __init__(self, data_file, max_length=512):\n",
    "        with open(data_file, 'r') as f:\n",
    "            data = json.load(f)\n",
    "        self.data = data\n",
    "        self.tokenizer = BertTokenizer.from_pretrained('bert-base-uncased')\n",
    "        self.tokenizer.add_special_tokens({'pad_token': '[PAD]'})\n",
    "        self.max_length = max_length\n",
    "        self.label_mapping = {\n",
    "            'disgust': 0,\n",
    "            'anger': 1,\n",
    "            'sadness': 2,\n",
    "            'surprise': 3,\n",
    "            'neutral': 4,\n",
    "            'joy': 5,\n",
    "            'fear': 6,\n",
    "            '<PAD>': 7\n",
    "        }\n",
    "\n",
    "    def __len__(self):\n",
    "        return len(self.data)\n",
    "\n",
    "    def __getitem__(self, idx):\n",
    "        utterance = self.data[idx]['utterances']\n",
    "        speaker = self.data[idx]['speakers']\n",
    "        final_utterance = [u + ' ' + s for u, s in zip(utterance, speaker)]\n",
    "        final_utterance = final_utterance + [self.tokenizer.pad_token] * (24 - len(final_utterance))\n",
    "\n",
    "        final_emotions = self.data[idx]['emotions']\n",
    "        final_emotions = final_emotions + [self.tokenizer.pad_token] * (24 - len(final_emotions))\n",
    "        emotion_labels = []\n",
    "        for emotion in final_emotions:\n",
    "            if emotion in self.label_mapping:\n",
    "                emotion_labels.append(self.label_mapping[emotion])\n",
    "            else:\n",
    "                emotion_labels.append(self.label_mapping['<PAD>'])  \n",
    "\n",
    "        inputs = self.tokenizer(final_utterance, padding='max_length', truncation=True, max_length=self.max_length, return_tensors='np')\n",
    "        input_ids = torch.tensor(inputs['input_ids'], dtype=torch.float32)\n",
    "\n",
    "\n",
    "        num_classes = len(self.label_mapping)\n",
    "        emotion_labels_one_hot = F.one_hot(torch.tensor(emotion_labels), num_classes=num_classes).float()\n",
    "\n",
    "        return input_ids, emotion_labels_one_hot\n",
    "\n",
    "train_data_file = '/Data/train_file.json'\n",
    "train_dataset = EmotionDataset(train_data_file)\n",
    "val_data_file = '/Data/val_file.json'\n",
    "val_dataset = EmotionDataset(val_data_file)\n",
    "train_loader = DataLoader(train_dataset, batch_size=32, shuffle=True)\n",
    "val_loader = DataLoader(val_dataset, batch_size=32, shuffle=False)\n"
   ]
  },
  {
   "cell_type": "code",
   "execution_count": 4,
   "metadata": {},
   "outputs": [
    {
     "name": "stderr",
     "output_type": "stream",
     "text": [
      "100%|██████████| 211/211 [00:28<00:00,  7.50it/s]\n",
      "100%|██████████| 27/27 [00:03<00:00,  7.99it/s]\n"
     ]
    },
    {
     "name": "stdout",
     "output_type": "stream",
     "text": [
      "Epoch 1/20, Train Loss: 9.5254, Train Acc: 0.2786, Train F1: 0.1276, val Loss: 9.5194, val Acc: 0.3617, val F1: 0.1445\n"
     ]
    },
    {
     "name": "stderr",
     "output_type": "stream",
     "text": [
      "100%|██████████| 211/211 [00:27<00:00,  7.54it/s]\n",
      "100%|██████████| 27/27 [00:03<00:00,  8.02it/s]\n"
     ]
    },
    {
     "name": "stdout",
     "output_type": "stream",
     "text": [
      "Epoch 2/20, Train Loss: 9.5094, Train Acc: 0.4243, Train F1: 0.1746, val Loss: 9.5011, val Acc: 0.4760, val F1: 0.1821\n"
     ]
    },
    {
     "name": "stderr",
     "output_type": "stream",
     "text": [
      "100%|██████████| 211/211 [00:27<00:00,  7.56it/s]\n",
      "100%|██████████| 27/27 [00:03<00:00,  8.03it/s]\n"
     ]
    },
    {
     "name": "stdout",
     "output_type": "stream",
     "text": [
      "Epoch 3/20, Train Loss: 9.4814, Train Acc: 0.5253, Train F1: 0.1942, val Loss: 9.4647, val Acc: 0.5878, val F1: 0.1801\n"
     ]
    },
    {
     "name": "stderr",
     "output_type": "stream",
     "text": [
      "100%|██████████| 211/211 [00:27<00:00,  7.56it/s]\n",
      "100%|██████████| 27/27 [00:03<00:00,  8.03it/s]\n"
     ]
    },
    {
     "name": "stdout",
     "output_type": "stream",
     "text": [
      "Epoch 4/20, Train Loss: 9.4102, Train Acc: 0.6145, Train F1: 0.1816, val Loss: 9.3550, val Acc: 0.6393, val F1: 0.1690\n"
     ]
    },
    {
     "name": "stderr",
     "output_type": "stream",
     "text": [
      "100%|██████████| 211/211 [00:27<00:00,  7.56it/s]\n",
      "100%|██████████| 27/27 [00:03<00:00,  8.04it/s]\n"
     ]
    },
    {
     "name": "stdout",
     "output_type": "stream",
     "text": [
      "Epoch 5/20, Train Loss: 9.2429, Train Acc: 0.6487, Train F1: 0.1746, val Loss: 9.1933, val Acc: 0.6504, val F1: 0.1674\n"
     ]
    },
    {
     "name": "stderr",
     "output_type": "stream",
     "text": [
      "100%|██████████| 211/211 [00:27<00:00,  7.56it/s]\n",
      "100%|██████████| 27/27 [00:03<00:00,  8.03it/s]\n"
     ]
    },
    {
     "name": "stdout",
     "output_type": "stream",
     "text": [
      "Epoch 6/20, Train Loss: 9.1412, Train Acc: 0.6768, Train F1: 0.1721, val Loss: 9.1433, val Acc: 0.6930, val F1: 0.1701\n"
     ]
    },
    {
     "name": "stderr",
     "output_type": "stream",
     "text": [
      "100%|██████████| 211/211 [00:27<00:00,  7.57it/s]\n",
      "100%|██████████| 27/27 [00:03<00:00,  8.03it/s]\n"
     ]
    },
    {
     "name": "stdout",
     "output_type": "stream",
     "text": [
      "Epoch 7/20, Train Loss: 9.1160, Train Acc: 0.6934, Train F1: 0.1710, val Loss: 9.1296, val Acc: 0.6930, val F1: 0.1701\n"
     ]
    },
    {
     "name": "stderr",
     "output_type": "stream",
     "text": [
      "100%|██████████| 211/211 [00:27<00:00,  7.57it/s]\n",
      "100%|██████████| 27/27 [00:03<00:00,  8.03it/s]\n"
     ]
    },
    {
     "name": "stdout",
     "output_type": "stream",
     "text": [
      "Epoch 8/20, Train Loss: 9.1098, Train Acc: 0.6934, Train F1: 0.1710, val Loss: 9.1252, val Acc: 0.6930, val F1: 0.1701\n"
     ]
    },
    {
     "name": "stderr",
     "output_type": "stream",
     "text": [
      "100%|██████████| 211/211 [00:27<00:00,  7.57it/s]\n",
      "100%|██████████| 27/27 [00:03<00:00,  8.03it/s]\n"
     ]
    },
    {
     "name": "stdout",
     "output_type": "stream",
     "text": [
      "Epoch 9/20, Train Loss: 9.1068, Train Acc: 0.6934, Train F1: 0.1710, val Loss: 9.1220, val Acc: 0.6930, val F1: 0.1701\n"
     ]
    },
    {
     "name": "stderr",
     "output_type": "stream",
     "text": [
      "100%|██████████| 211/211 [00:27<00:00,  7.56it/s]\n",
      "100%|██████████| 27/27 [00:03<00:00,  8.00it/s]\n"
     ]
    },
    {
     "name": "stdout",
     "output_type": "stream",
     "text": [
      "Epoch 10/20, Train Loss: 9.1043, Train Acc: 0.6934, Train F1: 0.1710, val Loss: 9.1196, val Acc: 0.6930, val F1: 0.1701\n"
     ]
    },
    {
     "name": "stderr",
     "output_type": "stream",
     "text": [
      "100%|██████████| 211/211 [00:27<00:00,  7.55it/s]\n",
      "100%|██████████| 27/27 [00:03<00:00,  8.02it/s]\n"
     ]
    },
    {
     "name": "stdout",
     "output_type": "stream",
     "text": [
      "Epoch 11/20, Train Loss: 9.1028, Train Acc: 0.6934, Train F1: 0.1710, val Loss: 9.1185, val Acc: 0.6930, val F1: 0.1701\n"
     ]
    },
    {
     "name": "stderr",
     "output_type": "stream",
     "text": [
      "100%|██████████| 211/211 [00:27<00:00,  7.55it/s]\n",
      "100%|██████████| 27/27 [00:03<00:00,  8.02it/s]\n"
     ]
    },
    {
     "name": "stdout",
     "output_type": "stream",
     "text": [
      "Epoch 12/20, Train Loss: 9.1015, Train Acc: 0.6934, Train F1: 0.1710, val Loss: 9.1170, val Acc: 0.6930, val F1: 0.1701\n"
     ]
    },
    {
     "name": "stderr",
     "output_type": "stream",
     "text": [
      "100%|██████████| 211/211 [00:28<00:00,  7.46it/s]\n",
      "100%|██████████| 27/27 [00:03<00:00,  7.99it/s]\n"
     ]
    },
    {
     "name": "stdout",
     "output_type": "stream",
     "text": [
      "Epoch 13/20, Train Loss: 9.1007, Train Acc: 0.6934, Train F1: 0.1710, val Loss: 9.1163, val Acc: 0.6930, val F1: 0.1701\n"
     ]
    },
    {
     "name": "stderr",
     "output_type": "stream",
     "text": [
      "100%|██████████| 211/211 [00:28<00:00,  7.48it/s]\n",
      "100%|██████████| 27/27 [00:03<00:00,  7.95it/s]\n"
     ]
    },
    {
     "name": "stdout",
     "output_type": "stream",
     "text": [
      "Epoch 14/20, Train Loss: 9.0998, Train Acc: 0.6934, Train F1: 0.1710, val Loss: 9.1148, val Acc: 0.6930, val F1: 0.1701\n"
     ]
    },
    {
     "name": "stderr",
     "output_type": "stream",
     "text": [
      "100%|██████████| 211/211 [00:28<00:00,  7.47it/s]\n",
      "100%|██████████| 27/27 [00:03<00:00,  7.96it/s]\n"
     ]
    },
    {
     "name": "stdout",
     "output_type": "stream",
     "text": [
      "Epoch 15/20, Train Loss: 9.0989, Train Acc: 0.6934, Train F1: 0.1710, val Loss: 9.1136, val Acc: 0.6930, val F1: 0.1701\n"
     ]
    },
    {
     "name": "stderr",
     "output_type": "stream",
     "text": [
      "100%|██████████| 211/211 [00:28<00:00,  7.47it/s]\n",
      "100%|██████████| 27/27 [00:03<00:00,  7.97it/s]\n"
     ]
    },
    {
     "name": "stdout",
     "output_type": "stream",
     "text": [
      "Epoch 16/20, Train Loss: 9.0980, Train Acc: 0.6934, Train F1: 0.1710, val Loss: 9.1134, val Acc: 0.6930, val F1: 0.1701\n"
     ]
    },
    {
     "name": "stderr",
     "output_type": "stream",
     "text": [
      "100%|██████████| 211/211 [00:27<00:00,  7.59it/s]\n",
      "100%|██████████| 27/27 [00:03<00:00,  8.03it/s]\n"
     ]
    },
    {
     "name": "stdout",
     "output_type": "stream",
     "text": [
      "Epoch 17/20, Train Loss: 9.0970, Train Acc: 0.6934, Train F1: 0.1710, val Loss: 9.1118, val Acc: 0.6930, val F1: 0.1701\n"
     ]
    },
    {
     "name": "stderr",
     "output_type": "stream",
     "text": [
      "100%|██████████| 211/211 [00:27<00:00,  7.58it/s]\n",
      "100%|██████████| 27/27 [00:03<00:00,  7.99it/s]\n"
     ]
    },
    {
     "name": "stdout",
     "output_type": "stream",
     "text": [
      "Epoch 18/20, Train Loss: 9.0956, Train Acc: 0.6935, Train F1: 0.1710, val Loss: 9.1103, val Acc: 0.6930, val F1: 0.1701\n"
     ]
    },
    {
     "name": "stderr",
     "output_type": "stream",
     "text": [
      "100%|██████████| 211/211 [00:28<00:00,  7.49it/s]\n",
      "100%|██████████| 27/27 [00:03<00:00,  7.97it/s]\n"
     ]
    },
    {
     "name": "stdout",
     "output_type": "stream",
     "text": [
      "Epoch 19/20, Train Loss: 9.0943, Train Acc: 0.6934, Train F1: 0.1710, val Loss: 9.1085, val Acc: 0.6930, val F1: 0.1701\n"
     ]
    },
    {
     "name": "stderr",
     "output_type": "stream",
     "text": [
      "100%|██████████| 211/211 [00:28<00:00,  7.46it/s]\n",
      "100%|██████████| 27/27 [00:03<00:00,  7.87it/s]\n"
     ]
    },
    {
     "name": "stdout",
     "output_type": "stream",
     "text": [
      "Epoch 20/20, Train Loss: 9.0926, Train Acc: 0.6935, Train F1: 0.1710, val Loss: 9.1068, val Acc: 0.6940, val F1: 0.1703\n"
     ]
    }
   ],
   "source": [
    "import torch\n",
    "import torch.nn as nn\n",
    "from transformers import BertModel\n",
    "from tqdm import tqdm\n",
    "class BiLSTMWithEmotions(nn.Module):\n",
    "    def __init__(self, input_size, hidden_size=128, num_layers=2, num_classes=768, dropout=0.1):\n",
    "        super(BiLSTMWithEmotions, self).__init__()\n",
    "        self.hidden_size = hidden_size\n",
    "        self.num_layers = num_layers\n",
    "        self.lstm = nn.LSTM(input_size, hidden_size, num_layers, batch_first=True, bidirectional=True)\n",
    "        self.dropout = nn.Dropout(dropout)\n",
    "        self.fc1 = nn.Linear(hidden_size * 2, hidden_size)\n",
    "        self.fc2 = nn.Linear(hidden_size, num_classes)\n",
    "        self.fc3 = nn.Linear(768, 192)\n",
    "        self.relu = nn.ReLU()\n",
    "        model_name = 'bert-base-uncased'\n",
    "        self.model = BertModel.from_pretrained(model_name)\n",
    "        self.softmax = nn.Softmax(dim=2)\n",
    "        \n",
    "    def forward(self, input_ids):\n",
    "        lstm_output, _ = self.lstm(input_ids)\n",
    "        lstm_output = self.dropout(lstm_output)\n",
    "        pooled_output, _ = torch.max(lstm_output, dim=1)\n",
    "        fc1_output = self.relu(self.fc1(pooled_output))\n",
    "        output = self.fc3(self.fc2(fc1_output))\n",
    "        output = self.softmax(output.view(output.size(0), 24, -1))\n",
    "        return output\n",
    "\n",
    "\n",
    "\n",
    "device = torch.device('cuda' if torch.cuda.is_available() else 'cpu')\n",
    "import torch\n",
    "import torch.nn as nn\n",
    "import torch.optim as optim\n",
    "from torch.utils.data import DataLoader\n",
    "\n",
    "model = BiLSTMWithEmotions(input_size=512).to(device)\n",
    "\n",
    "\n",
    "criterion = nn.CrossEntropyLoss()\n",
    "optimizer = optim.SGD(model.parameters(), lr=0.01)\n",
    "\n",
    "from sklearn.metrics import f1_score\n",
    "\n",
    "def train(model, train_loader, optimizer, criterion, device):\n",
    "    model.train()\n",
    "    running_loss = 0.0\n",
    "    correct = 0\n",
    "    total = 0\n",
    "    y_true = []\n",
    "    y_pred = []\n",
    "\n",
    "    for idx, (inputs, labels) in enumerate(tqdm(train_loader)):\n",
    "        inputs, labels = inputs.to(device), labels.to(device)\n",
    "        \n",
    "        optimizer.zero_grad()\n",
    "        \n",
    "        outputs = model(inputs)\n",
    "        loss = criterion(outputs, labels)\n",
    "\n",
    "        predicted = torch.argmax(outputs, 2)\n",
    "        labels = torch.argmax(labels, 2)\n",
    "        total += labels.size(0) * labels.size(1)\n",
    "        correct += (predicted == labels).sum().item()\n",
    "        \n",
    "        y_true.extend(labels.view(-1).cpu().numpy())\n",
    "        y_pred.extend(predicted.view(-1).cpu().numpy())\n",
    "\n",
    "        loss.backward()\n",
    "        optimizer.step()\n",
    "        \n",
    "        running_loss += loss.item()\n",
    "\n",
    "    train_loss = running_loss / len(train_loader)\n",
    "    train_acc = correct / total\n",
    "    train_f1 = f1_score(y_true, y_pred, average='macro')\n",
    "    return train_loss, train_acc, train_f1\n",
    "\n",
    "\n",
    "def val(model, val_loader, criterion, device):\n",
    "    model.eval()\n",
    "    running_loss = 0.0\n",
    "    correct = 0\n",
    "    total = 0\n",
    "    y_true = []\n",
    "    y_pred = []\n",
    "\n",
    "    with torch.no_grad():\n",
    "        for inputs, labels in tqdm(val_loader):\n",
    "            inputs, labels = inputs.to(device), labels.to(device)\n",
    "            \n",
    "            outputs = model(inputs)\n",
    "            \n",
    "            loss = criterion(outputs, labels)\n",
    "            \n",
    "            predicted = torch.argmax(outputs, 2)\n",
    "            labels = torch.argmax(labels, 2)\n",
    "            total += labels.size(0) * labels.size(1)\n",
    "            correct += (predicted == labels).sum().item()\n",
    "\n",
    "            y_true.extend(labels.view(-1).cpu().numpy())\n",
    "            y_pred.extend(predicted.view(-1).cpu().numpy())\n",
    "\n",
    "            running_loss += loss.item()\n",
    "    \n",
    "        val_loss = running_loss / len(val_loader)\n",
    "        val_acc = correct / total\n",
    "        val_f1 = f1_score(y_true, y_pred, average='macro')\n",
    "        return val_loss, val_acc, val_f1\n",
    "\n",
    "\n",
    "device = torch.device(\"cuda\" if torch.cuda.is_available() else \"cpu\")\n",
    "import matplotlib.pyplot as plt\n",
    "\n",
    "\n",
    "train_losses = []\n",
    "val_losses = []\n",
    "train_accuracies = []\n",
    "val_accuracies = []\n",
    "\n",
    "num_epochs = 20\n",
    "for epoch in range(num_epochs):\n",
    "    train_loss, train_acc, train_f1 = train(model, train_loader, optimizer, criterion, device)\n",
    "    val_loss, val_acc, val_f1 = val(model, val_loader, criterion, device)\n",
    "    \n",
    "\n",
    "    train_losses.append(train_loss)\n",
    "    val_losses.append(val_loss)\n",
    "    train_accuracies.append(train_acc)\n",
    "    val_accuracies.append(val_acc)\n",
    " \n",
    "    print(f\"Epoch {epoch+1}/{num_epochs}, Train Loss: {train_loss:.4f}, Train Acc: {train_acc:.4f}, Train F1: {train_f1:.4f}, val Loss: {val_loss:.4f}, val Acc: {val_acc:.4f}, val F1: {val_f1:.4f}\")\n"
   ]
  },
  {
   "cell_type": "code",
   "execution_count": 7,
   "metadata": {},
   "outputs": [
    {
     "data": {
      "image/png": "[encoded data removed]",
      "text/plain": [
       "<Figure size 600x500 with 1 Axes>"
      ]
     },
     "metadata": {},
     "output_type": "display_data"
    },
    {
     "data": {
      "image/png": "[encoded data removed]",
      "text/plain": [
       "<Figure size 600x500 with 1 Axes>"
      ]
     },
     "metadata": {},
     "output_type": "display_data"
    }
   ],
   "source": [
    "import matplotlib.pyplot as plt\n",
    "\n",
    "\n",
    "plt.figure(figsize=(6, 5))\n",
    "plt.plot(range(1, num_epochs + 1), train_losses, label='Train')\n",
    "plt.plot(range(1, num_epochs + 1), val_losses, label='Validation')\n",
    "plt.title('Loss vs Epoch')\n",
    "plt.xlabel('Epoch')\n",
    "plt.ylabel('Loss')\n",
    "plt.legend()\n",
    "plt.grid(True)  \n",
    "plt.tight_layout()\n",
    "plt.savefig('loss_plot1.png')\n",
    "plt.show()  \n",
    "\n",
    "\n",
    "plt.figure(figsize=(6, 5))\n",
    "plt.plot(range(1, num_epochs + 1), train_accuracies, label='Train')\n",
    "plt.plot(range(1, num_epochs + 1), val_accuracies, label='Validation')\n",
    "plt.title('Accuracy vs Epoch')\n",
    "plt.xlabel('Epoch')\n",
    "plt.ylabel('Accuracy')\n",
    "plt.legend()\n",
    "plt.grid(True)  \n",
    "plt.tight_layout()\n",
    "plt.savefig('accuracy_plot1.png')\n",
    "plt.show()  \n"
   ]
  },
  {
   "cell_type": "code",
   "execution_count": 5,
   "metadata": {},
   "outputs": [],
   "source": [
    "torch.save(model.state_dict(), \"/Model1.pkl\")"
   ]
  },
  {
   "cell_type": "code",
   "execution_count": 11,
   "metadata": {},
   "outputs": [
    {
     "name": "stderr",
     "output_type": "stream",
     "text": [
      "100%|██████████| 27/27 [00:03<00:00,  7.96it/s]\n",
      "/home/seraj/miniconda3/envs/gpu/lib/python3.11/site-packages/sklearn/metrics/_classification.py:1471: UndefinedMetricWarning: Precision and F-score are ill-defined and being set to 0.0 in labels with no predicted samples. Use `zero_division` parameter to control this behavior.\n",
      "  _warn_prf(average, modifier, msg_start, len(result))\n",
      "/home/seraj/miniconda3/envs/gpu/lib/python3.11/site-packages/sklearn/metrics/_classification.py:1471: UndefinedMetricWarning: Precision and F-score are ill-defined and being set to 0.0 in labels with no predicted samples. Use `zero_division` parameter to control this behavior.\n",
      "  _warn_prf(average, modifier, msg_start, len(result))\n"
     ]
    },
    {
     "name": "stdout",
     "output_type": "stream",
     "text": [
      "Classification Report on Validation Data:\n",
      "              precision    recall  f1-score   support\n",
      "\n",
      "       <PAD>       0.86      0.90      0.88     12939\n",
      "       anger       0.00      0.00      0.00       788\n",
      "     disgust       0.00      0.00      0.00       215\n",
      "        fear       0.00      0.00      0.00       265\n",
      "         joy       0.00      0.00      0.00      1259\n",
      "     neutral       0.36      0.75      0.48      3200\n",
      "     sadness       0.00      0.00      0.00       558\n",
      "    surprise       0.00      0.00      0.00      1008\n",
      "\n",
      "    accuracy                           0.69     20232\n",
      "   macro avg       0.15      0.21      0.17     20232\n",
      "weighted avg       0.61      0.69      0.64     20232\n",
      "\n"
     ]
    },
    {
     "name": "stderr",
     "output_type": "stream",
     "text": [
      "/home/seraj/miniconda3/envs/gpu/lib/python3.11/site-packages/sklearn/metrics/_classification.py:1471: UndefinedMetricWarning: Precision and F-score are ill-defined and being set to 0.0 in labels with no predicted samples. Use `zero_division` parameter to control this behavior.\n",
      "  _warn_prf(average, modifier, msg_start, len(result))\n"
     ]
    }
   ],
   "source": [
    "from sklearn.metrics import classification_report\n",
    "\n",
    "\n",
    "label_mapping = {\n",
    "            'disgust': 0,\n",
    "            'anger': 1,\n",
    "            'sadness': 2,\n",
    "            'surprise': 3,\n",
    "            'neutral': 4,\n",
    "            'joy': 5,\n",
    "            'fear': 6,\n",
    "            '<PAD>': 7\n",
    "        }\n",
    "\n",
    "y_true_val = []\n",
    "y_pred_val = []\n",
    "\n",
    "with torch.no_grad():\n",
    "    for inputs, labels in tqdm(val_loader):\n",
    "        inputs, labels = inputs.to(device), labels.to(device)\n",
    "\n",
    "        outputs = model(inputs)\n",
    "\n",
    "        predicted = torch.argmax(outputs, 2)\n",
    "        labels = torch.argmax(labels, 2)\n",
    "\n",
    "        y_true_val.extend(labels.view(-1).cpu().numpy())\n",
    "        y_pred_val.extend(predicted.view(-1).cpu().numpy())\n",
    "\n",
    "\n",
    "y_true_val_decoded = [list(label_mapping.keys())[list(label_mapping.values()).index(label)] for label in y_true_val]\n",
    "y_pred_val_decoded = [list(label_mapping.keys())[list(label_mapping.values()).index(label)] for label in y_pred_val]\n",
    "\n",
    "\n",
    "print(\"Classification Report on Validation Data:\")\n",
    "print(classification_report(y_true_val_decoded, y_pred_val_decoded))\n"
   ]
  },
  {
   "cell_type": "code",
   "execution_count": null,
   "metadata": {},
   "outputs": [],
   "source": []
  },
  {
   "cell_type": "code",
   "execution_count": null,
   "metadata": {},
   "outputs": [],
   "source": []
  }
 ],
 "metadata": {
  "kernelspec": {
   "display_name": "gpu",
   "language": "python",
   "name": "python3"
  },
  "language_info": {
   "codemirror_mode": {
    "name": "ipython",
    "version": 3
   },
   "file_extension": ".py",
   "mimetype": "text/x-python",
   "name": "python",
   "nbconvert_exporter": "python",
   "pygments_lexer": "ipython3",
   "version": "3.11.5"
  }
 },
 "nbformat": 4,
 "nbformat_minor": 2
}
